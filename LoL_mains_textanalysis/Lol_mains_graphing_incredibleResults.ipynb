{
 "cells": [
  {
   "cell_type": "code",
   "execution_count": 1,
   "metadata": {},
   "outputs": [],
   "source": [
    "# Function to plot Ellipses of clusters \n",
    "# https://stackoverflow.com/questions/12301071/multidimensional-confidence-intervals\n",
    "from matplotlib.patches import Ellipse\n",
    "\n",
    "def plot_point_cov(points, nstd=2, ax=None, **kwargs):\n",
    "    \"\"\"\n",
    "    Plots an `nstd` sigma ellipse based on the mean and covariance of a point\n",
    "    \"cloud\" (points, an Nx2 array).\n",
    "\n",
    "    Parameters\n",
    "    ----------\n",
    "        points : An Nx2 array of the data points.\n",
    "        nstd : The radius of the ellipse in numbers of standard deviations.\n",
    "            Defaults to 2 standard deviations.\n",
    "        ax : The axis that the ellipse will be plotted on. Defaults to the \n",
    "            current axis.\n",
    "        Additional keyword arguments are pass on to the ellipse patch.\n",
    "\n",
    "    Returns\n",
    "    -------\n",
    "        A matplotlib ellipse artist\n",
    "    \"\"\"\n",
    "    pos = points.mean(axis=0)\n",
    "    cov = np.cov(points, rowvar=False)\n",
    "    return plot_cov_ellipse(cov, pos, nstd, ax, **kwargs)\n",
    "\n",
    "def plot_cov_ellipse(cov, pos, nstd=2, ax=None, **kwargs):\n",
    "    \"\"\"\n",
    "    Plots an `nstd` sigma error ellipse based on the specified covariance\n",
    "    matrix (`cov`). Additional keyword arguments are passed on to the \n",
    "    ellipse patch artist.\n",
    "\n",
    "    Parameters\n",
    "    ----------\n",
    "        cov : The 2x2 covariance matrix to base the ellipse on\n",
    "        pos : The location of the center of the ellipse. Expects a 2-element\n",
    "            sequence of [x0, y0].\n",
    "        nstd : The radius of the ellipse in numbers of standard deviations.\n",
    "            Defaults to 2 standard deviations.\n",
    "        ax : The axis that the ellipse will be plotted on. Defaults to the \n",
    "            current axis.\n",
    "        Additional keyword arguments are pass on to the ellipse patch.\n",
    "\n",
    "    Returns\n",
    "    -------\n",
    "        A matplotlib ellipse artist\n",
    "    \"\"\"\n",
    "    def eigsorted(cov):\n",
    "        vals, vecs = np.linalg.eigh(cov)\n",
    "        order = vals.argsort()[::-1]\n",
    "        return vals[order], vecs[:,order]\n",
    "\n",
    "    if ax is None:\n",
    "        ax = plt.gca()\n",
    "\n",
    "    vals, vecs = eigsorted(cov)\n",
    "    theta = np.degrees(np.arctan2(*vecs[:,0][::-1]))\n",
    "\n",
    "    # Width and height are \"full\" widths, not radius\n",
    "    width, height = 2 * nstd * np.sqrt(vals)\n",
    "    ellip = Ellipse(xy=pos, width=width, height=height, angle=theta, **kwargs)\n",
    "\n",
    "    ax.add_artist(ellip)\n",
    "    return ellip"
   ]
  },
  {
   "cell_type": "code",
   "execution_count": 2,
   "metadata": {},
   "outputs": [],
   "source": [
    "# Create a list of champions - to be used for subreddits URLs\n",
    "# There are some special cases, which will be explained next cell...\n",
    "\n",
    "mains = [\"Aatrox\",\"Ahri\",\"Akali\",\"Amumu\",\"Anivia\",\"Annie\",\"Ashe\",\"Aurelion_Sol_\",\n",
    "         \"Azir\",\"Bard\",\n",
    "\n",
    "\"Blitzcrank\",\n",
    "\n",
    "\"Brand\",\n",
    "\n",
    "\"Braum\",\n",
    "\n",
    "\"Caitlyn\",\n",
    "\n",
    "\"Camille\",\n",
    "\n",
    "\"Cassiopeia\",\n",
    "\n",
    "\"ChoGath\",\n",
    "\n",
    "\"Corki\",\n",
    "\n",
    "\"Darius\",\n",
    "\n",
    "\"Diana\",\n",
    "\n",
    "\"DrMundo\",\n",
    "\n",
    "\"Ekko\",\n",
    "\n",
    "\"Elise\",\n",
    "\n",
    "\"Evelynn\",\n",
    "\n",
    "\"Ezreal\",\n",
    "\n",
    "\"Fiddlesticks\",\n",
    "\n",
    "\"Fiora\",\n",
    "\n",
    "\"Fizz\",\n",
    "\n",
    "\"Galio\",\n",
    "\n",
    "\"Gangplank\",\n",
    "\n",
    "\"Garen\",\n",
    "\n",
    "\"Gnar\",\n",
    "\n",
    "\"Gragas\",\n",
    "\n",
    "\"Graves\",\n",
    "\n",
    "\"Hecarim\",\n",
    "\n",
    "\"Heimerdinger\",\n",
    "\n",
    "\"Irelia\",\n",
    "\n",
    "\"Ivern\",\n",
    "\n",
    "\"JarvanIV\",\n",
    "\n",
    "\"Jax\",\n",
    "\n",
    "\"Jayce\",\n",
    "\n",
    "\"Jhin\",\n",
    "\n",
    "\"Kalista\",\n",
    "\n",
    "\"Karma\",\n",
    "\n",
    "\"Karthus\",\n",
    "\n",
    "\"Kassadin\",\n",
    "\n",
    "\"Katarina\",\n",
    "\n",
    "\"Kayle\",\n",
    "\n",
    "\"Kayn\",\n",
    "\n",
    "\"Kennen\",\n",
    "\n",
    "\"KhaZix\",\n",
    "\n",
    "\n",
    "\"Kled\",\n",
    "\n",
    "\"KogMaw\",\n",
    "\n",
    "\"LeBlanc\",\n",
    "\n",
    "\"LeeSin\",\n",
    "\n",
    "\"Leona\",\n",
    "\n",
    "\"Lissandra\",\n",
    "\n",
    "\"Lucian\",\n",
    "\n",
    "\"Lulu\",\n",
    "\n",
    "\"Malphite\",\n",
    "\n",
    "\"Malzahar\",\n",
    "\n",
    "\"Maokai\",\n",
    "\n",
    "\"MasterYi\",\n",
    "\n",
    "\"MissFortune\",\n",
    "\n",
    "\"Mordekaiser\",\n",
    "\n",
    "\"Morgana\",\n",
    "\n",
    "\"Nami\",\n",
    "\n",
    "\"Nasus\",\n",
    "\n",
    "\"Nautilus\",\n",
    "\n",
    "\"Nidalee\",\n",
    "\n",
    "\"Nocturne\",\n",
    "\n",
    "\"Nunu\",\n",
    "\n",
    "\"Olaf\",\n",
    "\n",
    "\"Orianna\",\n",
    "\n",
    "\"Ornn\",\n",
    "\n",
    "\"Pantheon\",\n",
    "\n",
    "\"Poppy\",\n",
    "\n",
    "\"Quinn\",\n",
    "\n",
    "\"Rakan\",\n",
    "\n",
    "\"Rammus\",\n",
    "\n",
    "\"RekSai\",\n",
    "\n",
    "\"Renekton\",\n",
    "\n",
    "\"Rengar\",\n",
    "\n",
    "\"Riven\",\n",
    "\n",
    "\"Rumble\",\n",
    "\n",
    "\"Ryze\",\n",
    "\n",
    "\"Sejuani\",\n",
    "\n",
    "\"Shaco\",\n",
    "\n",
    "\"Shyvana\",\n",
    "\n",
    "\"Singed\",\n",
    "\n",
    "\"Skarner\",\n",
    "\n",
    "\"Sona\",\n",
    "\n",
    "\"Soraka\",\n",
    "\n",
    "\"Swain\",\n",
    "\n",
    "\"Syndra\",\n",
    "\n",
    "\"TahmKench\",\n",
    "\n",
    "\"Taliyah\",\n",
    "\n",
    "\"Talon\",\n",
    "\n",
    "\"Taric\",\n",
    "\n",
    "\"Thresh\",\n",
    "\n",
    "\"Tristana\",\n",
    "\n",
    "\"Trundle\",\n",
    "\n",
    "\"Tryndamere\",\n",
    "\n",
    "\"TwistedFate\",\n",
    "\n",
    "\"Twitch\",\n",
    "\n",
    "\"Udyr\",\n",
    "\n",
    "\"Urgot\",\n",
    "\n",
    "\"Varus\",\n",
    "\n",
    "\"Vayne\",\n",
    "\n",
    "\"Veigar\",\n",
    "\n",
    "\"Vi\",\n",
    "\n",
    "\"Viktor\",\n",
    "\n",
    "\"Vladimir\",\n",
    "\n",
    "\"Volibear\",\n",
    "\n",
    "\"Warwick\",\n",
    "\n",
    "\"Wukong\",\n",
    "\n",
    "\"Xayah\",\n",
    "\n",
    "\"Xerath\",\n",
    "\n",
    "\"XinZhao\",\n",
    "\n",
    "\"Yasuo\",\n",
    "\n",
    "\"Yorick\",\n",
    "\n",
    "\"Zed\",\n",
    "\n",
    "\"Ziggs\",\n",
    "\n",
    "\"Zilean\",\n",
    "\n",
    "\"Zoe\",\n",
    "\n",
    "\"Zyra\"]"
   ]
  },
  {
   "cell_type": "code",
   "execution_count": 3,
   "metadata": {},
   "outputs": [],
   "source": [
    "mains_with_reddit = []\n",
    "for i in range(len(mains)):\n",
    "    mains_with_reddit.append(str(mains[i])+'mains')"
   ]
  },
  {
   "cell_type": "code",
   "execution_count": 4,
   "metadata": {},
   "outputs": [],
   "source": [
    "main_sub_names = mains_with_reddit\n",
    "\n",
    "main_sub_names.append('thesecretweapon')\n",
    "main_sub_names.append('velkoz')\n",
    "main_sub_names.append('TeemoTalk')\n",
    "main_sub_names.append('Sivir')\n",
    "main_sub_names.append('DirtySionMains')\n",
    "main_sub_names.append('Shen')\n",
    "main_sub_names.append('Lux')\n",
    "main_sub_names.append('Kindred')\n",
    "main_sub_names.append('leagueofjinx')\n",
    "main_sub_names.append('Janna')\n",
    "main_sub_names.append('Illaoi')\n",
    "main_sub_names.append('Draven')\n",
    "main_sub_names.append('Alistar')"
   ]
  },
  {
   "cell_type": "code",
   "execution_count": 5,
   "metadata": {},
   "outputs": [],
   "source": [
    "read_name = []\n",
    "\n",
    "for i in range(len(main_sub_names)):\n",
    "    read_name.append(str(main_sub_names[i]) + '_df.csv')"
   ]
  },
  {
   "cell_type": "code",
   "execution_count": 6,
   "metadata": {},
   "outputs": [],
   "source": [
    "clean_champ_names = mains\n",
    "\n",
    "clean_champ_names.append('Zac')\n",
    "clean_champ_names.append('Velkoz')\n",
    "clean_champ_names.append('Teemo')\n",
    "clean_champ_names.append('Sivir')\n",
    "clean_champ_names.append('Sion')\n",
    "clean_champ_names.append('Shen')\n",
    "clean_champ_names.append('Lux')\n",
    "clean_champ_names.append('Kindred')\n",
    "clean_champ_names.append('Jinx')\n",
    "clean_champ_names.append('Janna')\n",
    "clean_champ_names.append('Illaoi')\n",
    "clean_champ_names.append('Draven')\n",
    "clean_champ_names.append('Alistar')"
   ]
  },
  {
   "cell_type": "code",
   "execution_count": 7,
   "metadata": {},
   "outputs": [
    {
     "data": {
      "text/plain": [
       "[('Aatroxmains_df.csv', 'Aatrox'),\n",
       " ('Ahrimains_df.csv', 'Ahri'),\n",
       " ('Akalimains_df.csv', 'Akali'),\n",
       " ('Amumumains_df.csv', 'Amumu'),\n",
       " ('Aniviamains_df.csv', 'Anivia'),\n",
       " ('Anniemains_df.csv', 'Annie'),\n",
       " ('Ashemains_df.csv', 'Ashe'),\n",
       " ('Aurelion_Sol_mains_df.csv', 'Aurelion_Sol_'),\n",
       " ('Azirmains_df.csv', 'Azir'),\n",
       " ('Bardmains_df.csv', 'Bard'),\n",
       " ('Blitzcrankmains_df.csv', 'Blitzcrank'),\n",
       " ('Brandmains_df.csv', 'Brand'),\n",
       " ('Braummains_df.csv', 'Braum'),\n",
       " ('Caitlynmains_df.csv', 'Caitlyn'),\n",
       " ('Camillemains_df.csv', 'Camille'),\n",
       " ('Cassiopeiamains_df.csv', 'Cassiopeia'),\n",
       " ('ChoGathmains_df.csv', 'ChoGath'),\n",
       " ('Corkimains_df.csv', 'Corki'),\n",
       " ('Dariusmains_df.csv', 'Darius'),\n",
       " ('Dianamains_df.csv', 'Diana'),\n",
       " ('DrMundomains_df.csv', 'DrMundo'),\n",
       " ('Ekkomains_df.csv', 'Ekko'),\n",
       " ('Elisemains_df.csv', 'Elise'),\n",
       " ('Evelynnmains_df.csv', 'Evelynn'),\n",
       " ('Ezrealmains_df.csv', 'Ezreal'),\n",
       " ('Fiddlesticksmains_df.csv', 'Fiddlesticks'),\n",
       " ('Fioramains_df.csv', 'Fiora'),\n",
       " ('Fizzmains_df.csv', 'Fizz'),\n",
       " ('Galiomains_df.csv', 'Galio'),\n",
       " ('Gangplankmains_df.csv', 'Gangplank'),\n",
       " ('Garenmains_df.csv', 'Garen'),\n",
       " ('Gnarmains_df.csv', 'Gnar'),\n",
       " ('Gragasmains_df.csv', 'Gragas'),\n",
       " ('Gravesmains_df.csv', 'Graves'),\n",
       " ('Hecarimmains_df.csv', 'Hecarim'),\n",
       " ('Heimerdingermains_df.csv', 'Heimerdinger'),\n",
       " ('Ireliamains_df.csv', 'Irelia'),\n",
       " ('Ivernmains_df.csv', 'Ivern'),\n",
       " ('JarvanIVmains_df.csv', 'JarvanIV'),\n",
       " ('Jaxmains_df.csv', 'Jax'),\n",
       " ('Jaycemains_df.csv', 'Jayce'),\n",
       " ('Jhinmains_df.csv', 'Jhin'),\n",
       " ('Kalistamains_df.csv', 'Kalista'),\n",
       " ('Karmamains_df.csv', 'Karma'),\n",
       " ('Karthusmains_df.csv', 'Karthus'),\n",
       " ('Kassadinmains_df.csv', 'Kassadin'),\n",
       " ('Katarinamains_df.csv', 'Katarina'),\n",
       " ('Kaylemains_df.csv', 'Kayle'),\n",
       " ('Kaynmains_df.csv', 'Kayn'),\n",
       " ('Kennenmains_df.csv', 'Kennen'),\n",
       " ('KhaZixmains_df.csv', 'KhaZix'),\n",
       " ('Kledmains_df.csv', 'Kled'),\n",
       " ('KogMawmains_df.csv', 'KogMaw'),\n",
       " ('LeBlancmains_df.csv', 'LeBlanc'),\n",
       " ('LeeSinmains_df.csv', 'LeeSin'),\n",
       " ('Leonamains_df.csv', 'Leona'),\n",
       " ('Lissandramains_df.csv', 'Lissandra'),\n",
       " ('Lucianmains_df.csv', 'Lucian'),\n",
       " ('Lulumains_df.csv', 'Lulu'),\n",
       " ('Malphitemains_df.csv', 'Malphite'),\n",
       " ('Malzaharmains_df.csv', 'Malzahar'),\n",
       " ('Maokaimains_df.csv', 'Maokai'),\n",
       " ('MasterYimains_df.csv', 'MasterYi'),\n",
       " ('MissFortunemains_df.csv', 'MissFortune'),\n",
       " ('Mordekaisermains_df.csv', 'Mordekaiser'),\n",
       " ('Morganamains_df.csv', 'Morgana'),\n",
       " ('Namimains_df.csv', 'Nami'),\n",
       " ('Nasusmains_df.csv', 'Nasus'),\n",
       " ('Nautilusmains_df.csv', 'Nautilus'),\n",
       " ('Nidaleemains_df.csv', 'Nidalee'),\n",
       " ('Nocturnemains_df.csv', 'Nocturne'),\n",
       " ('Nunumains_df.csv', 'Nunu'),\n",
       " ('Olafmains_df.csv', 'Olaf'),\n",
       " ('Oriannamains_df.csv', 'Orianna'),\n",
       " ('Ornnmains_df.csv', 'Ornn'),\n",
       " ('Pantheonmains_df.csv', 'Pantheon'),\n",
       " ('Poppymains_df.csv', 'Poppy'),\n",
       " ('Quinnmains_df.csv', 'Quinn'),\n",
       " ('Rakanmains_df.csv', 'Rakan'),\n",
       " ('Rammusmains_df.csv', 'Rammus'),\n",
       " ('RekSaimains_df.csv', 'RekSai'),\n",
       " ('Renektonmains_df.csv', 'Renekton'),\n",
       " ('Rengarmains_df.csv', 'Rengar'),\n",
       " ('Rivenmains_df.csv', 'Riven'),\n",
       " ('Rumblemains_df.csv', 'Rumble'),\n",
       " ('Ryzemains_df.csv', 'Ryze'),\n",
       " ('Sejuanimains_df.csv', 'Sejuani'),\n",
       " ('Shacomains_df.csv', 'Shaco'),\n",
       " ('Shyvanamains_df.csv', 'Shyvana'),\n",
       " ('Singedmains_df.csv', 'Singed'),\n",
       " ('Skarnermains_df.csv', 'Skarner'),\n",
       " ('Sonamains_df.csv', 'Sona'),\n",
       " ('Sorakamains_df.csv', 'Soraka'),\n",
       " ('Swainmains_df.csv', 'Swain'),\n",
       " ('Syndramains_df.csv', 'Syndra'),\n",
       " ('TahmKenchmains_df.csv', 'TahmKench'),\n",
       " ('Taliyahmains_df.csv', 'Taliyah'),\n",
       " ('Talonmains_df.csv', 'Talon'),\n",
       " ('Taricmains_df.csv', 'Taric'),\n",
       " ('Threshmains_df.csv', 'Thresh'),\n",
       " ('Tristanamains_df.csv', 'Tristana'),\n",
       " ('Trundlemains_df.csv', 'Trundle'),\n",
       " ('Tryndameremains_df.csv', 'Tryndamere'),\n",
       " ('TwistedFatemains_df.csv', 'TwistedFate'),\n",
       " ('Twitchmains_df.csv', 'Twitch'),\n",
       " ('Udyrmains_df.csv', 'Udyr'),\n",
       " ('Urgotmains_df.csv', 'Urgot'),\n",
       " ('Varusmains_df.csv', 'Varus'),\n",
       " ('Vaynemains_df.csv', 'Vayne'),\n",
       " ('Veigarmains_df.csv', 'Veigar'),\n",
       " ('Vimains_df.csv', 'Vi'),\n",
       " ('Viktormains_df.csv', 'Viktor'),\n",
       " ('Vladimirmains_df.csv', 'Vladimir'),\n",
       " ('Volibearmains_df.csv', 'Volibear'),\n",
       " ('Warwickmains_df.csv', 'Warwick'),\n",
       " ('Wukongmains_df.csv', 'Wukong'),\n",
       " ('Xayahmains_df.csv', 'Xayah'),\n",
       " ('Xerathmains_df.csv', 'Xerath'),\n",
       " ('XinZhaomains_df.csv', 'XinZhao'),\n",
       " ('Yasuomains_df.csv', 'Yasuo'),\n",
       " ('Yorickmains_df.csv', 'Yorick'),\n",
       " ('Zedmains_df.csv', 'Zed'),\n",
       " ('Ziggsmains_df.csv', 'Ziggs'),\n",
       " ('Zileanmains_df.csv', 'Zilean'),\n",
       " ('Zoemains_df.csv', 'Zoe'),\n",
       " ('Zyramains_df.csv', 'Zyra'),\n",
       " ('thesecretweapon_df.csv', 'Zac'),\n",
       " ('velkoz_df.csv', 'Velkoz'),\n",
       " ('TeemoTalk_df.csv', 'Teemo'),\n",
       " ('Sivir_df.csv', 'Sivir'),\n",
       " ('DirtySionMains_df.csv', 'Sion'),\n",
       " ('Shen_df.csv', 'Shen'),\n",
       " ('Lux_df.csv', 'Lux'),\n",
       " ('Kindred_df.csv', 'Kindred'),\n",
       " ('leagueofjinx_df.csv', 'Jinx'),\n",
       " ('Janna_df.csv', 'Janna'),\n",
       " ('Illaoi_df.csv', 'Illaoi'),\n",
       " ('Draven_df.csv', 'Draven'),\n",
       " ('Alistar_df.csv', 'Alistar')]"
      ]
     },
     "execution_count": 7,
     "metadata": {},
     "output_type": "execute_result"
    }
   ],
   "source": [
    "list(zip(read_name, clean_champ_names))"
   ]
  },
  {
   "cell_type": "code",
   "execution_count": 8,
   "metadata": {},
   "outputs": [
    {
     "data": {
      "text/html": [
       "<div>\n",
       "<style scoped>\n",
       "    .dataframe tbody tr th:only-of-type {\n",
       "        vertical-align: middle;\n",
       "    }\n",
       "\n",
       "    .dataframe tbody tr th {\n",
       "        vertical-align: top;\n",
       "    }\n",
       "\n",
       "    .dataframe thead th {\n",
       "        text-align: right;\n",
       "    }\n",
       "</style>\n",
       "<table border=\"1\" class=\"dataframe\">\n",
       "  <thead>\n",
       "    <tr style=\"text-align: right;\">\n",
       "      <th></th>\n",
       "      <th>Unnamed: 0</th>\n",
       "      <th>Champion</th>\n",
       "      <th>Unnamed: 0.1</th>\n",
       "      <th>author</th>\n",
       "      <th>comments</th>\n",
       "      <th>post_id</th>\n",
       "      <th>post_url</th>\n",
       "      <th>score</th>\n",
       "      <th>title</th>\n",
       "      <th>type</th>\n",
       "      <th>upvote_ratio</th>\n",
       "    </tr>\n",
       "  </thead>\n",
       "  <tbody>\n",
       "    <tr>\n",
       "      <th>0</th>\n",
       "      <td>0</td>\n",
       "      <td>Aatrox</td>\n",
       "      <td>0.0</td>\n",
       "      <td>AHare115</td>\n",
       "      <td>[{Redditor(name='YandereYasuo'): 'Tip: run bac...</td>\n",
       "      <td>76n1km</td>\n",
       "      <td>https://i.redd.it/w384udgxb3sz.jpg</td>\n",
       "      <td>96</td>\n",
       "      <td>Buff Bloodwell duration pls</td>\n",
       "      <td>reddit_media</td>\n",
       "      <td>1.00</td>\n",
       "    </tr>\n",
       "    <tr>\n",
       "      <th>1</th>\n",
       "      <td>1</td>\n",
       "      <td>Aatrox</td>\n",
       "      <td>1.0</td>\n",
       "      <td>Rastabrotha</td>\n",
       "      <td>[{Redditor(name='Baker_of_Faker'): 'KAWAII UwU...</td>\n",
       "      <td>7hrq7x</td>\n",
       "      <td>https://i.redd.it/s289i5mte5201.jpg</td>\n",
       "      <td>56</td>\n",
       "      <td>Reworked Aatrox splash leaked!!!</td>\n",
       "      <td>unknown</td>\n",
       "      <td>0.94</td>\n",
       "    </tr>\n",
       "    <tr>\n",
       "      <th>2</th>\n",
       "      <td>2</td>\n",
       "      <td>Aatrox</td>\n",
       "      <td>2.0</td>\n",
       "      <td>Monjus</td>\n",
       "      <td>[{Redditor(name='matux555'): 'Jesus christ wha...</td>\n",
       "      <td>7b6yf9</td>\n",
       "      <td>https://www.youtube.com/watch?v=cp0pnHs-5hw</td>\n",
       "      <td>56</td>\n",
       "      <td>Aatrox rework leaked ?</td>\n",
       "      <td>reddit_media</td>\n",
       "      <td>0.97</td>\n",
       "    </tr>\n",
       "    <tr>\n",
       "      <th>3</th>\n",
       "      <td>3</td>\n",
       "      <td>Aatrox</td>\n",
       "      <td>3.0</td>\n",
       "      <td>drakon136</td>\n",
       "      <td>[{Redditor(name='meyoko'): 'proud to say i saw...</td>\n",
       "      <td>7kpoy2</td>\n",
       "      <td>https://i.imgur.com/blVzWk1.png</td>\n",
       "      <td>51</td>\n",
       "      <td>You're damn right he does</td>\n",
       "      <td>unknown</td>\n",
       "      <td>1.00</td>\n",
       "    </tr>\n",
       "    <tr>\n",
       "      <th>4</th>\n",
       "      <td>4</td>\n",
       "      <td>Aatrox</td>\n",
       "      <td>4.0</td>\n",
       "      <td>Puncsaus</td>\n",
       "      <td>[{Redditor(name='kameldinho'): \"AP Aatrox ones...</td>\n",
       "      <td>6bj8lf</td>\n",
       "      <td>https://i.redd.it/dw8xf4rhmwxy.jpg</td>\n",
       "      <td>45</td>\n",
       "      <td>Aatrox Core Items</td>\n",
       "      <td>youtube.com</td>\n",
       "      <td>1.00</td>\n",
       "    </tr>\n",
       "  </tbody>\n",
       "</table>\n",
       "</div>"
      ],
      "text/plain": [
       "   Unnamed: 0 Champion  Unnamed: 0.1       author  \\\n",
       "0           0   Aatrox           0.0     AHare115   \n",
       "1           1   Aatrox           1.0  Rastabrotha   \n",
       "2           2   Aatrox           2.0       Monjus   \n",
       "3           3   Aatrox           3.0    drakon136   \n",
       "4           4   Aatrox           4.0     Puncsaus   \n",
       "\n",
       "                                            comments post_id  \\\n",
       "0  [{Redditor(name='YandereYasuo'): 'Tip: run bac...  76n1km   \n",
       "1  [{Redditor(name='Baker_of_Faker'): 'KAWAII UwU...  7hrq7x   \n",
       "2  [{Redditor(name='matux555'): 'Jesus christ wha...  7b6yf9   \n",
       "3  [{Redditor(name='meyoko'): 'proud to say i saw...  7kpoy2   \n",
       "4  [{Redditor(name='kameldinho'): \"AP Aatrox ones...  6bj8lf   \n",
       "\n",
       "                                      post_url  score  \\\n",
       "0           https://i.redd.it/w384udgxb3sz.jpg     96   \n",
       "1          https://i.redd.it/s289i5mte5201.jpg     56   \n",
       "2  https://www.youtube.com/watch?v=cp0pnHs-5hw     56   \n",
       "3              https://i.imgur.com/blVzWk1.png     51   \n",
       "4           https://i.redd.it/dw8xf4rhmwxy.jpg     45   \n",
       "\n",
       "                              title          type  upvote_ratio  \n",
       "0       Buff Bloodwell duration pls  reddit_media          1.00  \n",
       "1  Reworked Aatrox splash leaked!!!       unknown          0.94  \n",
       "2            Aatrox rework leaked ?  reddit_media          0.97  \n",
       "3         You're damn right he does       unknown          1.00  \n",
       "4                 Aatrox Core Items   youtube.com          1.00  "
      ]
     },
     "execution_count": 8,
     "metadata": {},
     "output_type": "execute_result"
    }
   ],
   "source": [
    "import glob\n",
    "import os\n",
    "import pandas as pd\n",
    "\n",
    "df = pd.read_csv('all_champs_df.csv')\n",
    "df.head()"
   ]
  },
  {
   "cell_type": "code",
   "execution_count": 9,
   "metadata": {},
   "outputs": [],
   "source": [
    "doc_list = clean_champ_names # Clean up later to just be champion names "
   ]
  },
  {
   "cell_type": "code",
   "execution_count": 10,
   "metadata": {},
   "outputs": [],
   "source": [
    "def strip_comment(s):\n",
    "    record = False\n",
    "    new_s = ''\n",
    "    idx = 0\n",
    "    for i in range(len(s)):\n",
    "        window = s[i:i+3]\n",
    "        if window == \"'):\":\n",
    "            idx = i+3\n",
    "            break \n",
    "    if s[len(s)-2:] == \"'}\":\n",
    "        new_s = s[idx:len(s)-1]\n",
    "        new_s = new_s.strip()\n",
    "        return new_s\n",
    "    new_s = s[idx:]\n",
    "    new_s = new_s.strip()\n",
    "    return new_s"
   ]
  },
  {
   "cell_type": "code",
   "execution_count": 11,
   "metadata": {},
   "outputs": [],
   "source": [
    "def comment_parser(temp_df):\n",
    "    \n",
    "    temp_df = temp_df.reset_index()\n",
    "    \n",
    "    comment_list = []\n",
    "\n",
    "    for i in range(temp_df['comments'].shape[0]):\n",
    "        comment = temp_df['comments'][i]\n",
    "        comment = comment[1:len(comment)-1] # get rid of [ ]\n",
    "\n",
    "\n",
    "        comments_w_child = comment.split('},')\n",
    "        for coms in comments_w_child:\n",
    "            new_comment = strip_comment(coms)\n",
    "            comment_list.append(new_comment)\n",
    "            \n",
    "    return comment_list"
   ]
  },
  {
   "cell_type": "code",
   "execution_count": 12,
   "metadata": {},
   "outputs": [
    {
     "data": {
      "text/plain": [
       "['Unnamed: 0',\n",
       " 'Champion',\n",
       " 'Unnamed: 0.1',\n",
       " 'author',\n",
       " 'comments',\n",
       " 'post_id',\n",
       " 'post_url',\n",
       " 'score',\n",
       " 'title',\n",
       " 'type',\n",
       " 'upvote_ratio']"
      ]
     },
     "execution_count": 12,
     "metadata": {},
     "output_type": "execute_result"
    }
   ],
   "source": [
    "list(df)"
   ]
  },
  {
   "cell_type": "code",
   "execution_count": 13,
   "metadata": {
    "collapsed": false
   },
   "outputs": [],
   "source": [
    "corpus = []\n",
    "champ_order_list = []\n",
    "num_comments_list = []\n",
    "\n",
    "\n",
    "# Right now, treating each subreddit as a \"document\"\n",
    "for champ in clean_champ_names:\n",
    "    champ_order_list.append(champ)\n",
    "    current_champ_df = df.loc[df['Champion'] == champ]\n",
    "    subreddit_content = comment_parser(current_champ_df)\n",
    "    num_comments = len(subreddit_content)\n",
    "    subreddit_content = ' '.join(subreddit_content)\n",
    "    num_comments_list.append(num_comments)\n",
    "    corpus.append(subreddit_content)"
   ]
  },
  {
   "cell_type": "code",
   "execution_count": 14,
   "metadata": {
    "collapsed": false
   },
   "outputs": [
    {
     "data": {
      "text/plain": [
       "(139, 139)"
      ]
     },
     "execution_count": 14,
     "metadata": {},
     "output_type": "execute_result"
    }
   ],
   "source": [
    "len(corpus), len(champ_order_list)"
   ]
  },
  {
   "cell_type": "code",
   "execution_count": 15,
   "metadata": {},
   "outputs": [],
   "source": [
    "# corpus[0]"
   ]
  },
  {
   "cell_type": "markdown",
   "metadata": {},
   "source": [
    "# Document Clustering\n",
    "http://brandonrose.org/clustering"
   ]
  },
  {
   "cell_type": "code",
   "execution_count": 16,
   "metadata": {
    "collapsed": false
   },
   "outputs": [],
   "source": [
    "import numpy as np\n",
    "import pandas as pd\n",
    "import nltk\n",
    "import re\n",
    "import os\n",
    "import codecs\n",
    "from sklearn import feature_extraction\n",
    "# import mpld3"
   ]
  },
  {
   "cell_type": "code",
   "execution_count": 17,
   "metadata": {
    "collapsed": false
   },
   "outputs": [
    {
     "data": {
      "text/plain": [
       "'this is a test string I hope it works if not oh well find me at whatsup'"
      ]
     },
     "execution_count": 17,
     "metadata": {},
     "output_type": "execute_result"
    }
   ],
   "source": [
    "# Replace apostrohpies - 's and 'nt were being found significant otherwise \n",
    "def replace_ap(s):\n",
    "    new_s = s.replace(\"'s\", \"\")\n",
    "    new_s = new_s.replace(\"'\", \"\")\n",
    "    new_s = new_s.replace('\"', ' ')\n",
    "    new_s = new_s.replace(',', ' ')\n",
    "    new_s = new_s.replace('!', ' ')\n",
    "    new_s = new_s.replace('.com', ' ') # new\n",
    "    new_s = new_s.replace('. ', ' ')# new\n",
    "    new_s = new_s.replace('www.', ' ')\n",
    "    new_s = new_s.replace('...', ' ')\n",
    "    new_s = new_s.replace('?', ' ')\n",
    "    new_s = new_s.replace('-', ' ')\n",
    "    new_s = new_s.replace('_', ' ')\n",
    "    new_s = new_s.replace('\\\\n', ' ')\n",
    "    new_s = new_s.replace('\\\\', ' ')\n",
    "    new_s = new_s.replace('/', ' ')\n",
    "    new_s = new_s.replace('}', ' ')\n",
    "    new_s = new_s.replace('(', ' ')\n",
    "    new_s = new_s.replace(')', ' ')\n",
    "    new_s = new_s.replace('https', ' ')\n",
    "    new_s = new_s.replace('http', ' ')\n",
    "    new_s = \" \".join(new_s.split())\n",
    "    \n",
    "    return new_s\n",
    "\n",
    "test = \"this is a test's string...I hope it works! if not? oh well. find me at https//www.whatsup.com\"\n",
    "replace_ap(test)"
   ]
  },
  {
   "cell_type": "code",
   "execution_count": 18,
   "metadata": {},
   "outputs": [],
   "source": [
    "# # Define function to replace coin name - not interesting \n",
    "# def replace_coin_name(s):\n",
    "#     s = s.lower()\n",
    "#     new_s = re.sub('bitcoin|litecoin|neo|etherium|ripple|btc|ltc|xrp|eth', ' ',s)\n",
    "#     new_s = \" \".join(new_s.split())\n",
    "    \n",
    "#     return new_s\n",
    "    \n",
    "# test_str = 'send me some bitcoin ya that btc not that xrp etherium ripple bullshit'\n",
    "# replace_coin_name(test_str)"
   ]
  },
  {
   "cell_type": "code",
   "execution_count": 19,
   "metadata": {
    "collapsed": false
   },
   "outputs": [],
   "source": [
    "# Remove apostrophies from corpus\n",
    "corpus_clean = []\n",
    "for i in range(len(corpus)):\n",
    "    temp_corpus_clean = replace_ap(corpus[i])\n",
    "    corpus_clean.append(temp_corpus_clean)\n"
   ]
  },
  {
   "cell_type": "code",
   "execution_count": 20,
   "metadata": {},
   "outputs": [],
   "source": [
    "# corpus_clean[0]"
   ]
  },
  {
   "cell_type": "code",
   "execution_count": 21,
   "metadata": {
    "collapsed": false
   },
   "outputs": [],
   "source": [
    "# load nltk's English stopwords as variable called 'stopwords'\n",
    "stopwords = nltk.corpus.stopwords.words('english')"
   ]
  },
  {
   "cell_type": "code",
   "execution_count": 22,
   "metadata": {
    "collapsed": true
   },
   "outputs": [],
   "source": [
    "# load nltk's SnowballStemmer as variabled 'stemmer'\n",
    "from nltk.stem.snowball import SnowballStemmer\n",
    "stemmer = SnowballStemmer(\"english\")"
   ]
  },
  {
   "cell_type": "code",
   "execution_count": 23,
   "metadata": {
    "collapsed": true
   },
   "outputs": [],
   "source": [
    "\n",
    "# here I define a tokenizer and stemmer which returns the set of stems in the text that it is passed\n",
    "\n",
    "def tokenize_and_stem(text):\n",
    "    # first tokenize by sentence, then by word to ensure that punctuation is caught as it's own token\n",
    "    tokens = [word for sent in nltk.sent_tokenize(text) for word in nltk.word_tokenize(sent)]\n",
    "    filtered_tokens = []\n",
    "    # filter out any tokens not containing letters (e.g., numeric tokens, raw punctuation)\n",
    "    for token in tokens:\n",
    "        if re.search('[a-zA-Z]', token):\n",
    "            filtered_tokens.append(token)\n",
    "    stems = [stemmer.stem(t) for t in filtered_tokens]\n",
    "    return stems\n",
    "\n",
    "\n",
    "def tokenize_only(text):\n",
    "    # first tokenize by sentence, then by word to ensure that punctuation is caught as it's own token\n",
    "    tokens = [word.lower() for sent in nltk.sent_tokenize(text) for word in nltk.word_tokenize(sent)]\n",
    "    filtered_tokens = []\n",
    "    # filter out any tokens not containing letters (e.g., numeric tokens, raw punctuation)\n",
    "    for token in tokens:\n",
    "        if re.search('[a-zA-Z]', token):\n",
    "            filtered_tokens.append(token)\n",
    "    return filtered_tokens"
   ]
  },
  {
   "cell_type": "code",
   "execution_count": 24,
   "metadata": {
    "collapsed": false
   },
   "outputs": [],
   "source": [
    "#not super pythonic, no, not at all.\n",
    "#use extend so it's a big flat list of vocab\n",
    "\n",
    "# Got an interesting error:\n",
    "#ValueError: Shape of passed values is (1, 2981252), indices imply (1, 2981251)\n",
    "# So, since the index gets set as the stemmed vocab, put \n",
    "\n",
    "totalvocab_stemmed = []\n",
    "totalvocab_tokenized = []\n",
    "for i in corpus_clean:\n",
    "    allwords_stemmed = tokenize_and_stem(i) #for each item in 'synopses', tokenize/stem\n",
    "    totalvocab_stemmed.extend(allwords_stemmed) #extend the 'totalvocab_stemmed' list\n",
    "    \n",
    "    allwords_tokenized = tokenize_only(i)\n",
    "    totalvocab_tokenized.extend(allwords_tokenized)"
   ]
  },
  {
   "cell_type": "code",
   "execution_count": 27,
   "metadata": {},
   "outputs": [],
   "source": [
    "# test1 = [1, 2, 3]\n",
    "# test2 = [4, 5]\n",
    "# list(zip(test1, test2))\n",
    "\n",
    "from itertools import zip_longest\n",
    "# for i in itertools.zip_longest(totalvocab_tokenized,totalvocab_stemmed):\n",
    "#     t1, t2 = i\n",
    "#     if t1 == 's':\n",
    "# #         print(t1, t2, i)\n",
    "# #     if t2 == None:\n",
    "# #         print(t1, t2)"
   ]
  },
  {
   "cell_type": "code",
   "execution_count": 28,
   "metadata": {},
   "outputs": [
    {
     "data": {
      "text/plain": [
       "2981206"
      ]
     },
     "execution_count": 28,
     "metadata": {},
     "output_type": "execute_result"
    }
   ],
   "source": [
    "test = list(zip_longest(totalvocab_tokenized,totalvocab_stemmed))\n",
    "insert_idx = test.index(('s', None)) # Find index where it is missing \n",
    "insert_idx"
   ]
  },
  {
   "cell_type": "code",
   "execution_count": 29,
   "metadata": {},
   "outputs": [],
   "source": [
    "totalvocab_stemmed.insert(insert_idx, 's')"
   ]
  },
  {
   "cell_type": "code",
   "execution_count": 30,
   "metadata": {
    "collapsed": false
   },
   "outputs": [
    {
     "name": "stdout",
     "output_type": "stream",
     "text": [
      "there are 2981207 items in vocab_frame\n"
     ]
    }
   ],
   "source": [
    "vocab_frame = pd.DataFrame({'words': totalvocab_tokenized}, index = totalvocab_stemmed)\n",
    "print('there are ' + str(vocab_frame.shape[0]) + ' items in vocab_frame')"
   ]
  },
  {
   "cell_type": "code",
   "execution_count": 31,
   "metadata": {},
   "outputs": [],
   "source": [
    "# vocab_frame"
   ]
  },
  {
   "cell_type": "code",
   "execution_count": 32,
   "metadata": {
    "collapsed": false
   },
   "outputs": [
    {
     "name": "stdout",
     "output_type": "stream",
     "text": [
      "Wall time: 1min 19s\n",
      "(139, 200000)\n"
     ]
    },
    {
     "name": "stderr",
     "output_type": "stream",
     "text": [
      "C:\\Python\\lib\\site-packages\\sklearn\\feature_extraction\\text.py:1089: FutureWarning: Conversion of the second argument of issubdtype from `float` to `np.floating` is deprecated. In future, it will be treated as `np.float64 == np.dtype(float).type`.\n",
      "  if hasattr(X, 'dtype') and np.issubdtype(X.dtype, np.float):\n"
     ]
    }
   ],
   "source": [
    "from sklearn.feature_extraction.text import TfidfVectorizer\n",
    "\n",
    "#define vectorizer parameters\n",
    "tfidf_vectorizer = TfidfVectorizer(max_df=0.8, max_features=200000,\n",
    "                                 min_df=0.0002, stop_words='english',\n",
    "                                 use_idf=True, tokenizer=tokenize_and_stem, ngram_range=(1,3))\n",
    "\n",
    "%time tfidf_matrix = tfidf_vectorizer.fit_transform(corpus_clean) #fit the vectorizer to speeches\n",
    "\n",
    "print(tfidf_matrix.shape)"
   ]
  },
  {
   "cell_type": "code",
   "execution_count": null,
   "metadata": {},
   "outputs": [],
   "source": []
  },
  {
   "cell_type": "code",
   "execution_count": 33,
   "metadata": {
    "collapsed": false
   },
   "outputs": [],
   "source": [
    "terms = tfidf_vectorizer.get_feature_names()\n",
    "# terms"
   ]
  },
  {
   "cell_type": "code",
   "execution_count": 34,
   "metadata": {
    "collapsed": true
   },
   "outputs": [],
   "source": [
    "from sklearn.metrics.pairwise import cosine_similarity\n",
    "dist = 1 - cosine_similarity(tfidf_matrix)"
   ]
  },
  {
   "cell_type": "code",
   "execution_count": 35,
   "metadata": {},
   "outputs": [],
   "source": [
    "# from equal_groups import EqualGroupsKMeans, k_means # Import custom kmeans "
   ]
  },
  {
   "cell_type": "code",
   "execution_count": 36,
   "metadata": {
    "collapsed": false
   },
   "outputs": [
    {
     "name": "stdout",
     "output_type": "stream",
     "text": [
      "Wall time: 14.2 s\n"
     ]
    }
   ],
   "source": [
    "from sklearn.cluster import KMeans\n",
    "\n",
    "num_clusters = 5\n",
    "\n",
    "km = KMeans(n_clusters=num_clusters)\n",
    "%time km.fit(tfidf_matrix)\n",
    "\n",
    "clusters = km.labels_.tolist()"
   ]
  },
  {
   "cell_type": "code",
   "execution_count": 37,
   "metadata": {},
   "outputs": [
    {
     "data": {
      "text/plain": [
       "array([0, 1, 2, 3, 4])"
      ]
     },
     "execution_count": 37,
     "metadata": {},
     "output_type": "execute_result"
    }
   ],
   "source": [
    "np.unique(km.labels_)"
   ]
  },
  {
   "cell_type": "code",
   "execution_count": null,
   "metadata": {},
   "outputs": [],
   "source": []
  },
  {
   "cell_type": "code",
   "execution_count": 38,
   "metadata": {
    "collapsed": false,
    "scrolled": true
   },
   "outputs": [
    {
     "data": {
      "text/html": [
       "<div>\n",
       "<style scoped>\n",
       "    .dataframe tbody tr th:only-of-type {\n",
       "        vertical-align: middle;\n",
       "    }\n",
       "\n",
       "    .dataframe tbody tr th {\n",
       "        vertical-align: top;\n",
       "    }\n",
       "\n",
       "    .dataframe thead th {\n",
       "        text-align: right;\n",
       "    }\n",
       "</style>\n",
       "<table border=\"1\" class=\"dataframe\">\n",
       "  <thead>\n",
       "    <tr style=\"text-align: right;\">\n",
       "      <th></th>\n",
       "      <th>Champion</th>\n",
       "      <th>subreddit_content</th>\n",
       "      <th>cluster</th>\n",
       "      <th>num_comments</th>\n",
       "    </tr>\n",
       "  </thead>\n",
       "  <tbody>\n",
       "    <tr>\n",
       "      <th>1</th>\n",
       "      <td>Aatrox</td>\n",
       "      <td>Tip: run back to the tower Easy fix for Riot i...</td>\n",
       "      <td>1</td>\n",
       "      <td>651</td>\n",
       "    </tr>\n",
       "    <tr>\n",
       "      <th>3</th>\n",
       "      <td>Ahri</td>\n",
       "      <td>Her clothes literally dont fit hahahahaha Well...</td>\n",
       "      <td>3</td>\n",
       "      <td>968</td>\n",
       "    </tr>\n",
       "    <tr>\n",
       "      <th>1</th>\n",
       "      <td>Akali</td>\n",
       "      <td>Im actually planning to draw something for Aka...</td>\n",
       "      <td>1</td>\n",
       "      <td>1072</td>\n",
       "    </tr>\n",
       "    <tr>\n",
       "      <th>1</th>\n",
       "      <td>Amumu</td>\n",
       "      <td>Im sure the enemy team was quite sad after tha...</td>\n",
       "      <td>1</td>\n",
       "      <td>190</td>\n",
       "    </tr>\n",
       "    <tr>\n",
       "      <th>3</th>\n",
       "      <td>Anivia</td>\n",
       "      <td>and please make mexico pay my mana costs We ne...</td>\n",
       "      <td>3</td>\n",
       "      <td>1026</td>\n",
       "    </tr>\n",
       "  </tbody>\n",
       "</table>\n",
       "</div>"
      ],
      "text/plain": [
       "  Champion                                  subreddit_content  cluster  \\\n",
       "1   Aatrox  Tip: run back to the tower Easy fix for Riot i...        1   \n",
       "3     Ahri  Her clothes literally dont fit hahahahaha Well...        3   \n",
       "1    Akali  Im actually planning to draw something for Aka...        1   \n",
       "1    Amumu  Im sure the enemy team was quite sad after tha...        1   \n",
       "3   Anivia  and please make mexico pay my mana costs We ne...        3   \n",
       "\n",
       "   num_comments  \n",
       "1           651  \n",
       "3           968  \n",
       "1          1072  \n",
       "1           190  \n",
       "3          1026  "
      ]
     },
     "execution_count": 38,
     "metadata": {},
     "output_type": "execute_result"
    }
   ],
   "source": [
    "speeches = { 'Champion': champ_order_list, 'subreddit_content': corpus_clean, 'cluster': clusters,\n",
    "           'num_comments': num_comments_list}\n",
    "\n",
    "frame = pd.DataFrame(speeches, index = [clusters] , columns = ['Champion', 'subreddit_content', \n",
    "                                                               'cluster', 'num_comments'])\n",
    "frame.head()"
   ]
  },
  {
   "cell_type": "code",
   "execution_count": 39,
   "metadata": {},
   "outputs": [
    {
     "data": {
      "text/plain": [
       "1    43\n",
       "3    32\n",
       "4    23\n",
       "2    23\n",
       "0    18\n",
       "Name: cluster, dtype: int64"
      ]
     },
     "execution_count": 39,
     "metadata": {},
     "output_type": "execute_result"
    }
   ],
   "source": [
    "frame['cluster'].value_counts() # Number of champions in each cluster "
   ]
  },
  {
   "cell_type": "code",
   "execution_count": 40,
   "metadata": {
    "collapsed": false
   },
   "outputs": [],
   "source": [
    "# grouped = frame['Coin'].groupby(frame['cluster']) #groupby cluster for aggregation purposes\n",
    "\n",
    "# grouped.mean() #average rank (1 to 100) per cluster"
   ]
  },
  {
   "cell_type": "code",
   "execution_count": 41,
   "metadata": {
    "collapsed": false
   },
   "outputs": [
    {
     "name": "stdout",
     "output_type": "stream",
     "text": [
      "Top terms per cluster:\n",
      "\n",
      "Cluster 0 words: darius, sion, shen, garen, poppi, jax,\n",
      "\n",
      "Cluster 0 titles:\n",
      "\n",
      "Cluster 1 words: riven, rengar, shaco, xin, tiamat, warrior,\n",
      "\n",
      "Cluster 1 titles:\n",
      "\n",
      "Cluster 2 words: crit, lucian, shiv, jhin, quinn, jayc,\n",
      "\n",
      "Cluster 2 titles:\n",
      "\n",
      "Cluster 3 words: morello, rylai, liandri, lux, viktor, anivia,\n",
      "\n",
      "Cluster 3 titles:\n",
      "\n",
      "Cluster 4 words: sona, bard, leona, taric, nami, soraka,\n",
      "\n",
      "Cluster 4 titles:\n",
      "\n",
      "\n",
      "\n"
     ]
    }
   ],
   "source": [
    "from __future__ import print_function\n",
    "\n",
    "print(\"Top terms per cluster:\")\n",
    "print()\n",
    "#sort cluster centers by proximity to centroid\n",
    "order_centroids = km.cluster_centers_.argsort()[:, ::-1] \n",
    "\n",
    "top_cluster_words = []\n",
    "\n",
    "for i in range(num_clusters):\n",
    "    print(\"Cluster %d words:\" % i, end='')\n",
    "    \n",
    "    current_cluster_top = []\n",
    "    \n",
    "    for ind in order_centroids[i, :6]: #replace 6 with n words per cluster\n",
    "        current_cluster_top.append(terms[ind])\n",
    "        print(' %s' % terms[ind], end=',')\n",
    "#         print(' %s' % vocab_frame.ix[terms[ind].split(' ')].values.tolist()[0][0].encode('utf-8', 'ignore'), end=',')\n",
    "    top_cluster_words.append(current_cluster_top)\n",
    "    print() #add whitespace\n",
    "    print() #add whitespace\n",
    "    \n",
    "    print(\"Cluster %d titles:\" % i, end='')\n",
    "#     for title in frame.ix[i]['Coin'].values.tolist():\n",
    "#         print(' %s,' % title, end='')\n",
    "    print() #add whitespace\n",
    "    print() #add whitespace\n",
    "    \n",
    "print()\n",
    "print()"
   ]
  },
  {
   "cell_type": "code",
   "execution_count": 42,
   "metadata": {},
   "outputs": [],
   "source": [
    "# terms\n",
    "# idxs = order_centroids[1, :6]\n",
    "# idxs\n",
    "# terms[8292]\n",
    "\n",
    "# test1 = vocab_frame.loc[terms[8292].split(' ')].values\n",
    "# np.unique(test1)\n",
    "\n",
    "\n",
    "# vocab_frame.head()\n",
    "# vocab_frame.loc[terms[67683].split(' ')].values.tolist()\n",
    "# vocab_frame.loc[67683]\n",
    "# vocab_frame.ix[terms[8292].split(' ')].values.tolist()#[0][0].encode('utf-8', 'ignore')\n",
    "# vocab_frame.ix[terms[idxs[0]]].split(' ')#.values.tolist()[0][0].encode('utf-8', 'ignore')"
   ]
  },
  {
   "cell_type": "code",
   "execution_count": 43,
   "metadata": {
    "collapsed": false
   },
   "outputs": [
    {
     "data": {
      "text/plain": [
       "([['darius', 'sion', 'shen', 'garen', 'poppi', 'jax'],\n",
       "  ['riven', 'rengar', 'shaco', 'xin', 'tiamat', 'warrior'],\n",
       "  ['crit', 'lucian', 'shiv', 'jhin', 'quinn', 'jayc'],\n",
       "  ['morello', 'rylai', 'liandri', 'lux', 'viktor', 'anivia'],\n",
       "  ['sona', 'bard', 'leona', 'taric', 'nami', 'soraka']],\n",
       " [['darius', 'sion', 'shen', 'garen', 'poppi', 'jax'],\n",
       "  ['riven', 'rengar', 'shaco', 'xin', 'tiamat', 'warrior'],\n",
       "  ['crit', 'lucian', 'shiv', 'jhin', 'quinn', 'jayc'],\n",
       "  ['morello', 'rylai', 'liandri', 'lux', 'viktor', 'anivia'],\n",
       "  ['sona', 'bard', 'leona', 'taric', 'nami', 'soraka']])"
      ]
     },
     "execution_count": 43,
     "metadata": {},
     "output_type": "execute_result"
    }
   ],
   "source": [
    "# Define function to clean the list of top words\n",
    "def clean_top_words(s):\n",
    "    s = str(s)\n",
    "    new_s1 = s.replace(\"b'\", \"\", 1)\n",
    "    new_s2 = new_s1.replace(\"'\", \"\")\n",
    "    return new_s2\n",
    "\n",
    "# clean_top_words(top_cluster_words[0][0])\n",
    "clean_cluster_top = []\n",
    "for i in range(len(top_cluster_words)):\n",
    "    current_clean_cluster = []\n",
    "    for j in range(len(top_cluster_words[i])):\n",
    "        clean_word = clean_top_words(top_cluster_words[i][j])\n",
    "        current_clean_cluster.append(clean_word)\n",
    "    clean_cluster_top.append(current_clean_cluster)\n",
    "top_cluster_words, clean_cluster_top"
   ]
  },
  {
   "cell_type": "code",
   "execution_count": 44,
   "metadata": {},
   "outputs": [],
   "source": [
    "# !!!stop"
   ]
  },
  {
   "cell_type": "code",
   "execution_count": 89,
   "metadata": {
    "collapsed": false
   },
   "outputs": [
    {
     "name": "stdout",
     "output_type": "stream",
     "text": [
      "\n",
      "\n"
     ]
    }
   ],
   "source": [
    "import os  # for os.path.basename\n",
    "\n",
    "import matplotlib.pyplot as plt\n",
    "import matplotlib as mpl\n",
    "\n",
    "from sklearn.manifold import MDS\n",
    "from sklearn.manifold import TSNE\n",
    "\n",
    "MDS()\n",
    "\n",
    "# convert two components as we're plotting points in a two-dimensional plane\n",
    "# \"precomputed\" because we provide a distance matrix\n",
    "# we will also specify `random_state` so the plot is reproducible.\n",
    "# mds = MDS(n_components=2, dissimilarity=\"precomputed\", random_state=1, n_jobs=-1)\n",
    "\n",
    "perp = 69\n",
    "n_iter = 5000\n",
    "tsne = TSNE(n_components=2, perplexity=perp, n_iter=n_iter, random_state=1)\n",
    "\n",
    "# pos = mds.fit_transform(dist)  # shape (n_components, n_samples)\n",
    "pos = tsne.fit_transform(dist)\n",
    "\n",
    "xs, ys = pos[:, 0], pos[:, 1]\n",
    "print()\n",
    "print()"
   ]
  },
  {
   "cell_type": "code",
   "execution_count": null,
   "metadata": {
    "collapsed": false
   },
   "outputs": [],
   "source": []
  },
  {
   "cell_type": "code",
   "execution_count": 90,
   "metadata": {
    "collapsed": false
   },
   "outputs": [],
   "source": [
    "#set up colors per clusters using a dict\n",
    "cluster_colors = {0: '#1b9e77', 1: '#d95f02', 2: '#7570b3', 3: '#e7298a', 4: '#66a61e'}\n",
    "# coin_colors = {'Bitcoin':'#F7931B', 'Etherium':'#112229', 'Litecoin':'#BEBEBE', \n",
    "#                'Neo':'8AC81D', 'Ripple':'#019ED5'}\n",
    "coin_colors = {0:'#F7931B', 1:'#112229', 2:'#BEBEBE', 3:'#8AC81D', 4:'#019ED5'}\n",
    "\n",
    "\n",
    "#set up cluster names using a dict\n",
    "# Currently have to manually enter these from the cell above - could fix later \n",
    "cluster_names = {0: clean_cluster_top[0], \n",
    "                 1: clean_cluster_top[1], \n",
    "                 2: clean_cluster_top[2],\n",
    "                 3: clean_cluster_top[3],\n",
    "                 4: clean_cluster_top[4]}"
   ]
  },
  {
   "cell_type": "markdown",
   "metadata": {},
   "source": [
    "# Plot just Clusters"
   ]
  },
  {
   "cell_type": "code",
   "execution_count": 91,
   "metadata": {
    "collapsed": false
   },
   "outputs": [
    {
     "data": {
      "image/png": "[encoded data removed]",
      "text/plain": [
       "<matplotlib.figure.Figure at 0x26f232e7898>"
      ]
     },
     "metadata": {},
     "output_type": "display_data"
    }
   ],
   "source": [
    "#some ipython magic to show the matplotlib plots inline\n",
    "%matplotlib inline \n",
    "\n",
    "#create data frame that has the result of the MDS plus the cluster numbers and titles\n",
    "df = pd.DataFrame(dict(x=xs, y=ys, label=clusters, title=champ_order_list)) \n",
    "\n",
    "#group by cluster\n",
    "groups = df.groupby('label')\n",
    "\n",
    "\n",
    "# set up plot\n",
    "fig, ax = plt.subplots(figsize=(30, 15)) # set size\n",
    "ax.margins(0.05) # Optional, just adds 5% padding to the autoscaling\n",
    "\n",
    "#iterate through groups to layer the plot\n",
    "#note that I use the cluster_name and cluster_color dicts with the 'name' lookup to return the appropriate color/label\n",
    "for name, group in groups:\n",
    "    ax.plot(group.x, group.y, marker='o', linestyle='', ms=8, \n",
    "            label=cluster_names[name], color=cluster_colors[name], \n",
    "            mec='none')\n",
    "    ax.set_aspect('auto')\n",
    "    ax.tick_params(\\\n",
    "        axis= 'x',          # changes apply to the x-axis\n",
    "        which='both',      # both major and minor ticks are affected\n",
    "        bottom='off',      # ticks along the bottom edge are off\n",
    "        top='off',         # ticks along the top edge are off\n",
    "        labelbottom='off')\n",
    "    ax.tick_params(\\\n",
    "        axis= 'y',         # changes apply to the y-axis\n",
    "        which='both',      # both major and minor ticks are affected\n",
    "        left='off',      # ticks along the bottom edge are off\n",
    "        top='off',         # ticks along the top edge are off\n",
    "        labelleft='off')\n",
    "    \n",
    "ax.legend(numpoints=1, markerscale=2)  #show legend with only 1 point\n",
    "\n",
    "# add label in x,y position with the label as the champ name\n",
    "for i in range(len(df)):\n",
    "    ax.text(df.iloc[i]['x'], df.iloc[i]['y'], df.iloc[i]['title'], size=9)  \n",
    "\n",
    "    \n",
    "#uncomment the below to save the plot if need be\n",
    "plt.savefig('clusters_small_noaxes_'+'perplexity'+str(perp)+'_'+'n_iter'+str(n_iter)+'.png', dpi=200)\n",
    "\n",
    "plt.show() #show the plot"
   ]
  },
  {
   "cell_type": "markdown",
   "metadata": {},
   "source": [
    "# Idea:\n",
    "To see if this is really a good predictor of what champion one might like based on ones they have played, scrape mastery data from many players and compare the mastery scores of nearby champions.\n",
    "\n",
    "How exactly to do this I am not yet sure.  We want a reward function that gives higher reward when a player has many mastery points in two champions that are close together.  "
   ]
  },
  {
   "cell_type": "code",
   "execution_count": null,
   "metadata": {},
   "outputs": [],
   "source": []
  },
  {
   "cell_type": "code",
   "execution_count": null,
   "metadata": {},
   "outputs": [],
   "source": []
  },
  {
   "cell_type": "code",
   "execution_count": null,
   "metadata": {},
   "outputs": [],
   "source": []
  }
 ],
 "metadata": {
  "kernelspec": {
   "display_name": "Python 3",
   "language": "python",
   "name": "python3"
  },
  "language_info": {
   "codemirror_mode": {
    "name": "ipython",
    "version": 3
   },
   "file_extension": ".py",
   "mimetype": "text/x-python",
   "name": "python",
   "nbconvert_exporter": "python",
   "pygments_lexer": "ipython3",
   "version": "3.6.4"
  }
 },
 "nbformat": 4,
 "nbformat_minor": 2
}
